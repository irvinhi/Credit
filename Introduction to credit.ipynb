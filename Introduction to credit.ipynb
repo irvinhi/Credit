{
 "metadata": {
  "language_info": {
   "codemirror_mode": {
    "name": "ipython",
    "version": 3
   },
   "file_extension": ".py",
   "mimetype": "text/x-python",
   "name": "python",
   "nbconvert_exporter": "python",
   "pygments_lexer": "ipython3",
   "version": "3.7.3"
  },
  "orig_nbformat": 2,
  "kernelspec": {
   "name": "python37364bitbe410463bbbd4b188ee7a170219eff2b",
   "display_name": "Python 3.7.3 64-bit"
  },
  "metadata": {
   "interpreter": {
    "hash": "31f2aee4e71d21fbe5cf8b01ff0e069b9275f58929596ceb00d14d90e3e16cd6"
   }
  }
 },
 "nbformat": 4,
 "nbformat_minor": 2,
 "cells": [
  {
   "source": [
    "<h1> What is credit? </h1>\n",
    "\n",
    "Credit is when someone or a company receives resources from another without paying back immediately.\n",
    "\n",
    "It could be from\n",
    "<li>Lender</li>\n",
    "<li>Credit provider</li>\n",
    "\n",
    "Credit is an agreement to pay what you borrowed later, usually it charged with interest by lender.\n",
    "\n",
    "![](./Images/1.png)"
   ],
   "cell_type": "markdown",
   "metadata": {}
  },
  {
   "source": [
    "<h1> Who is the user? </h1>\n",
    "\n",
    "<h3> <li>Company</li> </h3>\n",
    "Company use credit for grow their business, from short-term working capital such as inventory supplies turn to revenue, to long-term capital investment, for examples, building factory, hire more people, expand business.\n",
    "\n",
    "<h3> <li>Individuals</li> </h3>\n",
    "Individuals use credit for daily expenses, loans such as mortgage."
   ],
   "cell_type": "markdown",
   "metadata": {}
  },
  {
   "source": [
    "<h1> Why credit is essentials? </h1>\n",
    "\n",
    "Credit is important because it could help the borrower, either a company or individuals to buy something that they can't afford in full price or to someone that use strategic buy even though they have cash to buy it.\n"
   ],
   "cell_type": "markdown",
   "metadata": {}
  },
  {
   "source": [
    "<h1>How credit is used?</h1>\n",
    "\n",
    "![](./Images/2.png)\n",
    "\n",
    "\n",
    "<h2> <li>Company</li> </h2>\n",
    "Based on this picture, we can see that the company is trying to grow the business by increasing their inventories but they don't have a lot of money. Therefore, they use liabilites in order to increase their assets.\n",
    "\n",
    "<h2> <li>Individuals</li> </h2>\n",
    "For individuals they could use credit for buying something that they can't afford or they have cash but they don't want to spend a large amount for once. A student can also use loans to pay their university fees and repay back when they already have a job."
   ],
   "cell_type": "markdown",
   "metadata": {}
  },
  {
   "source": [
    "<h1> Source of funding </h1>\n",
    "\n",
    "<h2> <li> Cash </li> </h2>\n",
    "\n",
    "Pros:\n",
    "<ol>\n",
    "<li> Easily accepted </li>\n",
    "<li> No cost (except opportunity cost) </li>\n",
    "<li> Very liquid </li>\n",
    "</ol>\n",
    "\n",
    "Cons:\n",
    "<ol>\n",
    "<li> It's very hard to keep cash a lot </li>\n",
    "<li> Some projects needs more funding</li>\n",
    "\n",
    "<h2> <li> Equity </li> </h2>\n",
    "\n",
    "Pros:\n",
    "<ol>\n",
    "<li> Can use stock to get money </li>\n",
    "<li> Good for company that doesn't have ability to borrow </li>\n",
    "<li> Suitable for long term, expensive and risky project </li>\n",
    "<li> No need to pay debt\n",
    "</ol>"
   ],
   "cell_type": "markdown",
   "metadata": {}
  },
  {
   "source": [
    "<h1> Principal & Interest </h1>\n",
    "\n",
    "<h2> <li> Principal payment </li> </h2>\n",
    "\n",
    "The value of loan that being lent out and must be repaid full\n",
    "\n",
    "<h2> <li> Interest payment </li> </h2>\n",
    "\n",
    "Additional charge from loan as a compensation. Calculated as a percentage of outstanding loan\n",
    "\n",
    "\n"
   ],
   "cell_type": "markdown",
   "metadata": {}
  },
  {
   "source": [
    "<h1> Types of Interest </h1>\n",
    "\n",
    "<h2> <li> Regular Interest </li> </h2>\n",
    "<h2> <li> Accrued Interest </li> </h2>\n",
    "\n",
    "================================================"
   ],
   "cell_type": "markdown",
   "metadata": {}
  },
  {
   "source": [
    "<h1> <li> Regular Interest </li> </h1>\n",
    "\n",
    "Interest that based principal loan outstanding and paid in cash\n",
    "\n",
    "\n",
    "<h2><li>Consisted of two types:</li</h2>\n",
    "\n",
    "<h3>Simple Interest : Interest based on principal of loan.</h3>\n",
    "\n",
    "<li>Example: If someone borrow 5000 IDR with Interest 5%, they should pay principal + 250 IDR each year/month</li>\n",
    "\n",
    "<h3>Compounding Interest : Interest that accumulated from previous interest(Interest on interest).</h3>\n",
    "\n",
    "<li>Example: If someone borrow 5000 IDR with Interest 5%, they should pay principal + 250 IDR each year/month + the percentage of total interest 250*0.5=12.5 Means that 262.5</li>\n",
    "\n"
   ],
   "cell_type": "markdown",
   "metadata": {}
  },
  {
   "cell_type": "code",
   "execution_count": null,
   "metadata": {},
   "outputs": [],
   "source": []
  }
 ]
}